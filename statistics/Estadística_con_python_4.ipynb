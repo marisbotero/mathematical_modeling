{
  "nbformat": 4,
  "nbformat_minor": 0,
  "metadata": {
    "colab": {
      "name": "Estadística con python_4.ipynb",
      "provenance": [],
      "include_colab_link": true
    },
    "kernelspec": {
      "name": "python3",
      "display_name": "Python 3"
    }
  },
  "cells": [
    {
      "cell_type": "markdown",
      "metadata": {
        "id": "view-in-github",
        "colab_type": "text"
      },
      "source": [
        "<a href=\"https://colab.research.google.com/github/marisbotero/mathematical_modeling/blob/master/Estad%C3%ADstica_con_python_4.ipynb\" target=\"_parent\"><img src=\"https://colab.research.google.com/assets/colab-badge.svg\" alt=\"Open In Colab\"/></a>"
      ]
    },
    {
      "cell_type": "markdown",
      "metadata": {
        "id": "EAJMxamynx_x",
        "colab_type": "text"
      },
      "source": [
        "## 🧡Distribución de Bernoulli"
      ]
    },
    {
      "cell_type": "code",
      "metadata": {
        "id": "UCGOH6bklZU_",
        "colab_type": "code",
        "colab": {}
      },
      "source": [
        "import seaborn as sns\n",
        "import matplotlib.pyplot as plt\n",
        "%matplotlib inline"
      ],
      "execution_count": 0,
      "outputs": []
    },
    {
      "cell_type": "code",
      "metadata": {
        "id": "ZBN4ruD7lyrF",
        "colab_type": "code",
        "colab": {}
      },
      "source": [
        "from scipy.stats import bernoulli\n",
        "p= 0.3\n",
        "data = bernoulli.rvs(p, size= 100)\n"
      ],
      "execution_count": 0,
      "outputs": []
    },
    {
      "cell_type": "code",
      "metadata": {
        "id": "gWPHJ_nNl3Gr",
        "colab_type": "code",
        "colab": {
          "base_uri": "https://localhost:8080/",
          "height": 34
        },
        "outputId": "4ca149d7-04ff-4fab-c022-2b0925030693"
      },
      "source": [
        "len(data) #longitud"
      ],
      "execution_count": 6,
      "outputs": [
        {
          "output_type": "execute_result",
          "data": {
            "text/plain": [
              "100"
            ]
          },
          "metadata": {
            "tags": []
          },
          "execution_count": 6
        }
      ]
    },
    {
      "cell_type": "markdown",
      "metadata": {
        "id": "eo8bfFsTmpO4",
        "colab_type": "text"
      },
      "source": [
        "Datos caracteristicos de la distribución"
      ]
    },
    {
      "cell_type": "code",
      "metadata": {
        "id": "xx9twwZWmnBz",
        "colab_type": "code",
        "colab": {}
      },
      "source": [
        "mean, var, skew, kurt = bernoulli.stats(p, moments ='mvsk')"
      ],
      "execution_count": 0,
      "outputs": []
    },
    {
      "cell_type": "code",
      "metadata": {
        "id": "Nv3278A8m2Sc",
        "colab_type": "code",
        "colab": {
          "base_uri": "https://localhost:8080/",
          "height": 34
        },
        "outputId": "7927ead4-6423-4836-c18d-3fa8aca33dff"
      },
      "source": [
        "mean, var, skew, kurt"
      ],
      "execution_count": 8,
      "outputs": [
        {
          "output_type": "execute_result",
          "data": {
            "text/plain": [
              "(array(0.3), array(0.21), array(0.87287156), array(-1.23809524))"
            ]
          },
          "metadata": {
            "tags": []
          },
          "execution_count": 8
        }
      ]
    },
    {
      "cell_type": "code",
      "metadata": {
        "id": "ie6JCgxYm5f6",
        "colab_type": "code",
        "colab": {
          "base_uri": "https://localhost:8080/",
          "height": 296
        },
        "outputId": "fecadde8-094f-4243-ead7-bd0398e0dcac"
      },
      "source": [
        "ax = sns.distplot(data, bins = 30, kde = False, color = 'blue')\n",
        "ax.set(xlabel='Distribución de Bernoulli', ylabel= 'Frecuencia')\n",
        "ax.axvline(x = mean, linestyle ='--', label = 'Media')\n",
        "ax.legend()\n"
      ],
      "execution_count": 18,
      "outputs": [
        {
          "output_type": "execute_result",
          "data": {
            "text/plain": [
              "<matplotlib.legend.Legend at 0x7fb639f010f0>"
            ]
          },
          "metadata": {
            "tags": []
          },
          "execution_count": 18
        },
        {
          "output_type": "display_data",
          "data": {
            "image/png": "[encoded data removed]",
            "text/plain": [
              "<Figure size 432x288 with 1 Axes>"
            ]
          },
          "metadata": {
            "tags": []
          }
        }
      ]
    },
    {
      "cell_type": "markdown",
      "metadata": {
        "id": "dIkb-0-Dn4oB",
        "colab_type": "text"
      },
      "source": [
        "## 💛Distribución Binomial"
      ]
    },
    {
      "cell_type": "code",
      "metadata": {
        "id": "DoKyp7UhnMmZ",
        "colab_type": "code",
        "colab": {}
      },
      "source": [
        "from scipy.stats import binom\n",
        "\n",
        "p= 0.3\n",
        "n = 10\n",
        "data = binom.rvs(p = p, n= n,  size= 100)\n"
      ],
      "execution_count": 0,
      "outputs": []
    },
    {
      "cell_type": "code",
      "metadata": {
        "id": "Yr4xE3vyrgVI",
        "colab_type": "code",
        "colab": {
          "base_uri": "https://localhost:8080/",
          "height": 34
        },
        "outputId": "614e22ec-dda8-4b95-81a5-cf2272487c64"
      },
      "source": [
        "len(data)"
      ],
      "execution_count": 20,
      "outputs": [
        {
          "output_type": "execute_result",
          "data": {
            "text/plain": [
              "100"
            ]
          },
          "metadata": {
            "tags": []
          },
          "execution_count": 20
        }
      ]
    },
    {
      "cell_type": "code",
      "metadata": {
        "id": "EPZ5G-Agrhyc",
        "colab_type": "code",
        "colab": {
          "base_uri": "https://localhost:8080/",
          "height": 34
        },
        "outputId": "1959b905-a2c3-40b6-9696-b01507d7c89c"
      },
      "source": [
        "mean, var, skew, kurt = binom.stats(p = p, n=n, moments ='mvsk')\n",
        "mean, var, skew, kurt"
      ],
      "execution_count": 23,
      "outputs": [
        {
          "output_type": "execute_result",
          "data": {
            "text/plain": [
              "(array(3.), array(2.1), array(0.27602622), array(-0.12380952))"
            ]
          },
          "metadata": {
            "tags": []
          },
          "execution_count": 23
        }
      ]
    },
    {
      "cell_type": "code",
      "metadata": {
        "id": "gcX_3yY5rpkH",
        "colab_type": "code",
        "colab": {
          "base_uri": "https://localhost:8080/",
          "height": 296
        },
        "outputId": "3a3600ac-c38c-4c6c-d4d9-aac865cf007d"
      },
      "source": [
        "ax = sns.distplot(data, bins = 30, kde = False, color = 'blue')\n",
        "ax.set(xlabel='Distribución de Binomnial', ylabel= 'Frecuencia')\n",
        "ax.axvline(x = mean, linestyle ='--', label = 'Media')\n",
        "ax.legend()\n"
      ],
      "execution_count": 24,
      "outputs": [
        {
          "output_type": "execute_result",
          "data": {
            "text/plain": [
              "<matplotlib.legend.Legend at 0x7fb6375b4160>"
            ]
          },
          "metadata": {
            "tags": []
          },
          "execution_count": 24
        },
        {
          "output_type": "display_data",
          "data": {
            "image/png": "[encoded data removed]",
            "text/plain": [
              "<Figure size 432x288 with 1 Axes>"
            ]
          },
          "metadata": {
            "tags": []
          }
        }
      ]
    },
    {
      "cell_type": "markdown",
      "metadata": {
        "id": "F6TTWLFOr7Y3",
        "colab_type": "text"
      },
      "source": [
        "## 💚Distribución Geométrica"
      ]
    },
    {
      "cell_type": "code",
      "metadata": {
        "id": "q_knCnvFr5bm",
        "colab_type": "code",
        "colab": {
          "base_uri": "https://localhost:8080/",
          "height": 34
        },
        "outputId": "92269560-11ea-44eb-fc80-3413a502ba11"
      },
      "source": [
        "from scipy.stats import nbinom\n",
        "\n",
        "p= 0.3\n",
        "n = 1\n",
        "data = nbinom.rvs(p = p, n= n,  size= 100)\n",
        "len(data)"
      ],
      "execution_count": 25,
      "outputs": [
        {
          "output_type": "execute_result",
          "data": {
            "text/plain": [
              "100"
            ]
          },
          "metadata": {
            "tags": []
          },
          "execution_count": 25
        }
      ]
    },
    {
      "cell_type": "code",
      "metadata": {
        "id": "gjcZNBxjs2hn",
        "colab_type": "code",
        "colab": {
          "base_uri": "https://localhost:8080/",
          "height": 34
        },
        "outputId": "9abb2720-eadc-499a-9706-0a23ca181f0e"
      },
      "source": [
        "mean, var, skew, kurt = binom.stats(p = p, n=n, moments ='mvsk')\n",
        "mean, var, skew, kurt"
      ],
      "execution_count": 26,
      "outputs": [
        {
          "output_type": "execute_result",
          "data": {
            "text/plain": [
              "(array(0.3), array(0.21), array(0.87287156), array(-1.23809524))"
            ]
          },
          "metadata": {
            "tags": []
          },
          "execution_count": 26
        }
      ]
    },
    {
      "cell_type": "code",
      "metadata": {
        "id": "wNSMyk6Os4wo",
        "colab_type": "code",
        "colab": {
          "base_uri": "https://localhost:8080/",
          "height": 296
        },
        "outputId": "81651cab-2901-4ac5-e26e-fed48c5778ef"
      },
      "source": [
        "ax = sns.distplot(data, bins = 30, kde = False, color = 'blue')\n",
        "ax.set(xlabel='Distribución de Geométrica', ylabel= 'Frecuencia')\n",
        "ax.axvline(x = mean, linestyle ='--', label = 'Media')\n",
        "ax.legend()"
      ],
      "execution_count": 27,
      "outputs": [
        {
          "output_type": "execute_result",
          "data": {
            "text/plain": [
              "<matplotlib.legend.Legend at 0x7fb637561710>"
            ]
          },
          "metadata": {
            "tags": []
          },
          "execution_count": 27
        },
        {
          "output_type": "display_data",
          "data": {
            "image/png": "[encoded data removed]",
            "text/plain": [
              "<Figure size 432x288 with 1 Axes>"
            ]
          },
          "metadata": {
            "tags": []
          }
        }
      ]
    },
    {
      "cell_type": "markdown",
      "metadata": {
        "id": "TWCK9m2AwTgf",
        "colab_type": "text"
      },
      "source": [
        "## 🖤Distribución Poisson"
      ]
    },
    {
      "cell_type": "code",
      "metadata": {
        "id": "yebgEDB_tB5A",
        "colab_type": "code",
        "colab": {
          "base_uri": "https://localhost:8080/",
          "height": 34
        },
        "outputId": "f5f4d263-8cf6-40de-ae3b-47bf5bf1290a"
      },
      "source": [
        "from scipy.stats import  poisson\n",
        "\n",
        "lambda_p= 3\n",
        "n = 1\n",
        "data = poisson.rvs(mu = lambda_p, size= 100)\n",
        "len(data)"
      ],
      "execution_count": 36,
      "outputs": [
        {
          "output_type": "execute_result",
          "data": {
            "text/plain": [
              "100"
            ]
          },
          "metadata": {
            "tags": []
          },
          "execution_count": 36
        }
      ]
    },
    {
      "cell_type": "code",
      "metadata": {
        "id": "6Orj37XPwrDl",
        "colab_type": "code",
        "colab": {
          "base_uri": "https://localhost:8080/",
          "height": 34
        },
        "outputId": "d196542e-a612-44fe-a60b-be9d76da24b3"
      },
      "source": [
        "mean, var, skew, kurt = poisson.stats(mu= lambda_p, moments ='mvsk')\n",
        "mean, var, skew, kurt"
      ],
      "execution_count": 37,
      "outputs": [
        {
          "output_type": "execute_result",
          "data": {
            "text/plain": [
              "(array(3.), array(3.), array(0.57735027), array(0.33333333))"
            ]
          },
          "metadata": {
            "tags": []
          },
          "execution_count": 37
        }
      ]
    },
    {
      "cell_type": "code",
      "metadata": {
        "id": "QyWJp090wtLl",
        "colab_type": "code",
        "colab": {
          "base_uri": "https://localhost:8080/",
          "height": 299
        },
        "outputId": "a60ce043-c562-439a-8921-94eb4f9b7736"
      },
      "source": [
        "ax = sns.distplot(data, bins = 30, kde = False, color = 'blue')\n",
        "ax.set(xlabel='Distribución de Poisson', ylabel= 'Frecuencia')\n",
        "ax.axvline(x = mean, linestyle ='--', label = 'Media')\n",
        "ax.legend()"
      ],
      "execution_count": 38,
      "outputs": [
        {
          "output_type": "execute_result",
          "data": {
            "text/plain": [
              "<matplotlib.legend.Legend at 0x7fb63a3356a0>"
            ]
          },
          "metadata": {
            "tags": []
          },
          "execution_count": 38
        },
        {
          "output_type": "display_data",
          "data": {
            "image/png": "[encoded data removed]",
            "text/plain": [
              "<Figure size 432x288 with 1 Axes>"
            ]
          },
          "metadata": {
            "tags": []
          }
        }
      ]
    },
    {
      "cell_type": "code",
      "metadata": {
        "id": "eHWaZbWFwvGc",
        "colab_type": "code",
        "colab": {}
      },
      "source": [
        ""
      ],
      "execution_count": 0,
      "outputs": []
    }
  ]
}