{
  "nbformat": 4,
  "nbformat_minor": 0,
  "metadata": {
    "colab": {
      "name": "Estadistica_03.ipynb",
      "provenance": [],
      "include_colab_link": true
    },
    "kernelspec": {
      "name": "python3",
      "display_name": "Python 3"
    }
  },
  "cells": [
    {
      "cell_type": "markdown",
      "metadata": {
        "id": "view-in-github",
        "colab_type": "text"
      },
      "source": [
        "<a href=\"https://colab.research.google.com/github/marisbotero/mathematical_modeling/blob/master/Estadistica_03.ipynb\" target=\"_parent\"><img src=\"https://colab.research.google.com/assets/colab-badge.svg\" alt=\"Open In Colab\"/></a>"
      ]
    },
    {
      "cell_type": "markdown",
      "metadata": {
        "id": "pxePeTZJB-i3",
        "colab_type": "text"
      },
      "source": [
        "## 🤓Funciones de distribución discreta y continua"
      ]
    },
    {
      "cell_type": "markdown",
      "metadata": {
        "id": "dy3IbYtCCOv-",
        "colab_type": "text"
      },
      "source": [
        "Distribución de probabilidad discreta\n",
        "\n",
        "propiedades\n",
        "1. Rango \n",
        "2. probabilidad\n",
        "3. Probabilidad acumulada\n",
        "4. Regla de completitud de espacio\n",
        "5. Valor Esperado\n",
        "6. Varianza"
      ]
    },
    {
      "cell_type": "code",
      "metadata": {
        "id": "Nr22rFWeBpW6",
        "colab_type": "code",
        "colab": {}
      },
      "source": [
        "import scipy.stats\n",
        "import numpy as np\n",
        "import pandas as pd\n",
        "import matplotlib.pyplot as plt\n",
        "import seaborn as sns\n",
        "%matplotlib inline"
      ],
      "execution_count": 0,
      "outputs": []
    },
    {
      "cell_type": "code",
      "metadata": {
        "id": "uLAU65TKB8D3",
        "colab_type": "code",
        "colab": {}
      },
      "source": [
        "from scipy.stats import bimom #libreria binomial\n",
        "\n",
        "#Definicion de las variables aleatorias\n",
        "\n",
        "p = 0.3 #probabilidad de exito\n",
        "n = 8  #esoacio total de exito\n",
        "\n",
        "x = list(range(0,9,1)) #creamos una lista de 0 a 8 \n",
        "y = list([])\n",
        "\n",
        "\n",
        "#calcular para x particular su probabilidad asociada\n",
        "for i in x:\n",
        "  y.append(binom.pmf(i, p=p, n=n ))\n",
        "\n"
      ],
      "execution_count": 0,
      "outputs": []
    },
    {
      "cell_type": "code",
      "metadata": {
        "id": "Hs8adxgUK0rh",
        "colab_type": "code",
        "colab": {
          "base_uri": "https://localhost:8080/",
          "height": 170
        },
        "outputId": "f7914ade-b5ee-44de-f966-90c36a3cb2fb"
      },
      "source": [
        ""
      ],
      "execution_count": 4,
      "outputs": [
        {
          "output_type": "execute_result",
          "data": {
            "text/plain": [
              "[0.05764801000000002,\n",
              " 0.1976503200000001,\n",
              " 0.2964754800000002,\n",
              " 0.25412184,\n",
              " 0.1361367,\n",
              " 0.04667544000000001,\n",
              " 0.010001879999999989,\n",
              " 0.0012247199999999988,\n",
              " 6.560999999999994e-05]"
            ]
          },
          "metadata": {
            "tags": []
          },
          "execution_count": 4
        }
      ]
    },
    {
      "cell_type": "markdown",
      "metadata": {
        "id": "CLi8aHx1LTVG",
        "colab_type": "text"
      },
      "source": [
        "Generemos una gráfica de la distribución de probabilidades "
      ]
    },
    {
      "cell_type": "code",
      "metadata": {
        "id": "bD4uxpB-LPNz",
        "colab_type": "code",
        "outputId": "85d31bee-7d4a-4763-a8c2-ee3a8dc85877",
        "colab": {
          "base_uri": "https://localhost:8080/",
          "height": 282
        }
      },
      "source": [
        "fig, ax = plt.subplots()\n",
        "ax.bar(x,y)\n",
        "ax.set_ylabel('probablidad discreta')\n",
        "\n",
        "np.sum(y)"
      ],
      "execution_count": 10,
      "outputs": [
        {
          "output_type": "execute_result",
          "data": {
            "text/plain": [
              "1.0000000000000002"
            ]
          },
          "metadata": {
            "tags": []
          },
          "execution_count": 10
        },
        {
          "output_type": "display_data",
          "data": {
            "image/png": "[encoded data removed]",
            "text/plain": [
              "<Figure size 432x288 with 1 Axes>"
            ]
          },
          "metadata": {
            "tags": []
          }
        }
      ]
    },
    {
      "cell_type": "markdown",
      "metadata": {
        "id": "4KYwSXrSMi8t",
        "colab_type": "text"
      },
      "source": [
        "promedio ponderado"
      ]
    },
    {
      "cell_type": "code",
      "metadata": {
        "id": "XNxoH-8XLoWR",
        "colab_type": "code",
        "colab": {}
      },
      "source": [
        "media = np.average(x, weights=y) #promedio ponderado \n",
        "varianza = np.average(((x- media)**2), weights=y) # la varianza es la suma al cuadrado de los errores, ponderada"
      ],
      "execution_count": 0,
      "outputs": []
    },
    {
      "cell_type": "code",
      "metadata": {
        "id": "6DsK0TpvPB9g",
        "colab_type": "code",
        "colab": {
          "base_uri": "https://localhost:8080/",
          "height": 34
        },
        "outputId": "2a5a6820-82d9-4090-bb59-f569ab96303f"
      },
      "source": [
        "media"
      ],
      "execution_count": 13,
      "outputs": [
        {
          "output_type": "execute_result",
          "data": {
            "text/plain": [
              "2.4"
            ]
          },
          "metadata": {
            "tags": []
          },
          "execution_count": 13
        }
      ]
    },
    {
      "cell_type": "code",
      "metadata": {
        "id": "xfBmoWmIPNhk",
        "colab_type": "code",
        "colab": {
          "base_uri": "https://localhost:8080/",
          "height": 34
        },
        "outputId": "5c939cc4-f1a9-4f3a-dbf4-9c1a8cbefe7d"
      },
      "source": [
        "varianza"
      ],
      "execution_count": 14,
      "outputs": [
        {
          "output_type": "execute_result",
          "data": {
            "text/plain": [
              "1.68"
            ]
          },
          "metadata": {
            "tags": []
          },
          "execution_count": 14
        }
      ]
    },
    {
      "cell_type": "code",
      "metadata": {
        "id": "AAM3bhgnPOci",
        "colab_type": "code",
        "colab": {}
      },
      "source": [
        ""
      ],
      "execution_count": 0,
      "outputs": []
    },
    {
      "cell_type": "code",
      "metadata": {
        "colab_type": "code",
        "outputId": "1c431cef-e7ae-473a-cefe-278319190472",
        "id": "rnchJCN5PRqG",
        "colab": {
          "base_uri": "https://localhost:8080/",
          "height": 282
        }
      },
      "source": [
        "fig, ax = plt.subplots()\n",
        "ax.bar(x,y)\n",
        "ax.set_ylabel('probablidad discreta')\n",
        "ax.axvline(x= media, c= 'r', linestyle = '--', label = 'valor esperado')\n",
        "ax.axvline(x = media + 3* np.sqrt(varianza), c = 'g', linestyle = '--', label = 'Desviación estandar')\n",
        "ax.legend()\n"
      ],
      "execution_count": 19,
      "outputs": [
        {
          "output_type": "execute_result",
          "data": {
            "text/plain": [
              "<matplotlib.legend.Legend at 0x7f0a9a4a6208>"
            ]
          },
          "metadata": {
            "tags": []
          },
          "execution_count": 19
        },
        {
          "output_type": "display_data",
          "data": {
            "image/png": "[encoded data removed]",
            "text/plain": [
              "<Figure size 432x288 with 1 Axes>"
            ]
          },
          "metadata": {
            "tags": []
          }
        }
      ]
    },
    {
      "cell_type": "markdown",
      "metadata": {
        "id": "XuQQUVfCRYR_",
        "colab_type": "text"
      },
      "source": [
        "Distribuciones de probabilidad continua"
      ]
    },
    {
      "cell_type": "code",
      "metadata": {
        "id": "l3yNX3wNRbns",
        "colab_type": "code",
        "colab": {}
      },
      "source": [
        "N = 100\n",
        "\n",
        "x = list(range(0,N+1, 1))\n",
        "y = list([])"
      ],
      "execution_count": 0,
      "outputs": []
    },
    {
      "cell_type": "code",
      "metadata": {
        "id": "o5EDo9rHRm6N",
        "colab_type": "code",
        "colab": {}
      },
      "source": [
        "for i in x:\n",
        "  y.append(binom.pmf(i, p = 0.3, n=N))\n"
      ],
      "execution_count": 0,
      "outputs": []
    },
    {
      "cell_type": "code",
      "metadata": {
        "id": "aPE_TsMIR2j9",
        "colab_type": "code",
        "colab": {
          "base_uri": "https://localhost:8080/",
          "height": 1000
        },
        "outputId": "e9baab97-5fca-4b26-9e4e-fda86be06a28"
      },
      "source": [
        "#los valores de la probabilidad asociados a y\n",
        "y"
      ],
      "execution_count": 24,
      "outputs": [
        {
          "output_type": "execute_result",
          "data": {
            "text/plain": [
              "[3.2344765096247705e-16,\n",
              " 1.3862042184105933e-14,\n",
              " 2.9407332347710807e-13,\n",
              " 4.117026528679382e-12,\n",
              " 4.278766856591813e-11,\n",
              " 3.5208138705672277e-10,\n",
              " 2.389123697884838e-09,\n",
              " 1.37496506694588e-08,\n",
              " 6.850272387105447e-08,\n",
              " 3.001071712446251e-07,\n",
              " 1.1704179678540456e-06,\n",
              " 4.104063004163861e-06,\n",
              " 1.3045057406091572e-05,\n",
              " 3.784500170558246e-05,\n",
              " 0.00010079128005262849,\n",
              " 0.0002476585738436032,\n",
              " 0.000563865502947482,\n",
              " 0.0011940681238887599,\n",
              " 0.0023597060543514643,\n",
              " 0.00436456909301092,\n",
              " 0.007575644925726078,\n",
              " 0.012368399878738114,\n",
              " 0.019034485527667042,\n",
              " 0.027665028655117337,\n",
              " 0.038039414400788354,\n",
              " 0.04955992276217045,\n",
              " 0.061269135282903536,\n",
              " 0.07196692080848441,\n",
              " 0.08041201865846266,\n",
              " 0.08556155679915357,\n",
              " 0.08678386475342778,\n",
              " 0.08398438524524879,\n",
              " 0.07761057029360002,\n",
              " 0.06853920493460677,\n",
              " 0.057883950385953564,\n",
              " 0.04677968235272963,\n",
              " 0.03619856372532685,\n",
              " 0.026834456506805493,\n",
              " 0.019066587517993245,\n",
              " 0.012990422265006426,\n",
              " 0.008490168837485806,\n",
              " 0.005324844567064698,\n",
              " 0.0032057737699674217,\n",
              " 0.0018531715480874773,\n",
              " 0.0010288712166329898,\n",
              " 0.0005487313155375643,\n",
              " 0.0002811821958500107,\n",
              " 0.000138454455099392,\n",
              " 6.55186260738213e-05,\n",
              " 2.9798558797423272e-05,\n",
              " 1.3026227131445298e-05,\n",
              " 5.473204677077736e-06,\n",
              " 2.2103326580506156e-06,\n",
              " 8.579188753619353e-07,\n",
              " 3.2001735826994016e-07,\n",
              " 1.147075206266218e-07,\n",
              " 3.9503865521925166e-08,\n",
              " 1.3068947992215872e-08,\n",
              " 4.1524489926005945e-09,\n",
              " 1.2668488452002281e-09,\n",
              " 3.710057332371766e-10,\n",
              " 1.0426390629616922e-10,\n",
              " 2.8108011605188348e-11,\n",
              " 7.26601660542293e-12,\n",
              " 1.8002853642900753e-12,\n",
              " 4.273204820732424e-13,\n",
              " 9.711829138028295e-14,\n",
              " 2.1121675310848908e-14,\n",
              " 4.3929534785169706e-15,\n",
              " 8.731336106369137e-16,\n",
              " 1.657171954882398e-16,\n",
              " 3.000915008841319e-17,\n",
              " 5.180150908118919e-18,\n",
              " 8.515316561291009e-19,\n",
              " 1.3315456398930993e-19,\n",
              " 1.9782963792697214e-20,\n",
              " 2.7889516625043152e-21,\n",
              " 3.725501293140944e-22,\n",
              " 4.7080510847388074e-23,\n",
              " 5.619012144534894e-24,\n",
              " 6.3213886626009865e-25,\n",
              " 6.689300172064472e-26,\n",
              " 6.642684839855114e-27,\n",
              " 6.173923947542075e-28,\n",
              " 5.354934036133559e-29,\n",
              " 4.319946785452303e-30,\n",
              " 3.2291961020823153e-31,\n",
              " 2.2270317945393726e-32,\n",
              " 1.4099714283610392e-33,\n",
              " 8.147507451203865e-35,\n",
              " 4.26774199824933e-36,\n",
              " 2.0099255878724807e-37,\n",
              " 8.426706657229357e-39,\n",
              " 3.1066199657987784e-40,\n",
              " 9.914744571698849e-42,\n",
              " 2.683690260008763e-43,\n",
              " 5.990380044661983e-45,\n",
              " 1.0586827766707475e-46,\n",
              " 1.388942418372733e-48,\n",
              " 1.2025475483746612e-50,\n",
              " 5.153775207320016e-53]"
            ]
          },
          "metadata": {
            "tags": []
          },
          "execution_count": 24
        }
      ]
    },
    {
      "cell_type": "code",
      "metadata": {
        "id": "viiR6Ig_R95o",
        "colab_type": "code",
        "colab": {
          "base_uri": "https://localhost:8080/",
          "height": 298
        },
        "outputId": "8d435fb7-61a4-4b67-8064-b4cf8140a722"
      },
      "source": [
        "fig, ax = plt.subplots()\n",
        "ax.plot(x,y)\n",
        "ax.set_title('probalidad continua')"
      ],
      "execution_count": 27,
      "outputs": [
        {
          "output_type": "execute_result",
          "data": {
            "text/plain": [
              "Text(0.5, 1.0, 'probalidad continua')"
            ]
          },
          "metadata": {
            "tags": []
          },
          "execution_count": 27
        },
        {
          "output_type": "display_data",
          "data": {
            "image/png": "[encoded data removed]",
            "text/plain": [
              "<Figure size 432x288 with 1 Axes>"
            ]
          },
          "metadata": {
            "tags": []
          }
        }
      ]
    },
    {
      "cell_type": "code",
      "metadata": {
        "id": "2fXKw0ioSRbP",
        "colab_type": "code",
        "colab": {}
      },
      "source": [
        "#probabilidad acumulada\n",
        "\n"
      ],
      "execution_count": 0,
      "outputs": []
    },
    {
      "cell_type": "code",
      "metadata": {
        "colab_type": "code",
        "id": "0h2yK6z8SzVU",
        "colab": {}
      },
      "source": [
        "\n",
        "for i in x:\n",
        "  y.append(binom.cdf(i, p = 0.3, n=N))\n"
      ],
      "execution_count": 0,
      "outputs": []
    },
    {
      "cell_type": "code",
      "metadata": {
        "id": "0-0IJrrrS3Hq",
        "colab_type": "code",
        "colab": {
          "base_uri": "https://localhost:8080/",
          "height": 1000
        },
        "outputId": "57fbd412-419b-4ec9-958e-8d5e53efdce6"
      },
      "source": [
        "y"
      ],
      "execution_count": 30,
      "outputs": [
        {
          "output_type": "execute_result",
          "data": {
            "text/plain": [
              "[3.2344765096247705e-16,\n",
              " 1.3862042184105933e-14,\n",
              " 2.9407332347710807e-13,\n",
              " 4.117026528679382e-12,\n",
              " 4.278766856591813e-11,\n",
              " 3.5208138705672277e-10,\n",
              " 2.389123697884838e-09,\n",
              " 1.37496506694588e-08,\n",
              " 6.850272387105447e-08,\n",
              " 3.001071712446251e-07,\n",
              " 1.1704179678540456e-06,\n",
              " 4.104063004163861e-06,\n",
              " 1.3045057406091572e-05,\n",
              " 3.784500170558246e-05,\n",
              " 0.00010079128005262849,\n",
              " 0.0002476585738436032,\n",
              " 0.000563865502947482,\n",
              " 0.0011940681238887599,\n",
              " 0.0023597060543514643,\n",
              " 0.00436456909301092,\n",
              " 0.007575644925726078,\n",
              " 0.012368399878738114,\n",
              " 0.019034485527667042,\n",
              " 0.027665028655117337,\n",
              " 0.038039414400788354,\n",
              " 0.04955992276217045,\n",
              " 0.061269135282903536,\n",
              " 0.07196692080848441,\n",
              " 0.08041201865846266,\n",
              " 0.08556155679915357,\n",
              " 0.08678386475342778,\n",
              " 0.08398438524524879,\n",
              " 0.07761057029360002,\n",
              " 0.06853920493460677,\n",
              " 0.057883950385953564,\n",
              " 0.04677968235272963,\n",
              " 0.03619856372532685,\n",
              " 0.026834456506805493,\n",
              " 0.019066587517993245,\n",
              " 0.012990422265006426,\n",
              " 0.008490168837485806,\n",
              " 0.005324844567064698,\n",
              " 0.0032057737699674217,\n",
              " 0.0018531715480874773,\n",
              " 0.0010288712166329898,\n",
              " 0.0005487313155375643,\n",
              " 0.0002811821958500107,\n",
              " 0.000138454455099392,\n",
              " 6.55186260738213e-05,\n",
              " 2.9798558797423272e-05,\n",
              " 1.3026227131445298e-05,\n",
              " 5.473204677077736e-06,\n",
              " 2.2103326580506156e-06,\n",
              " 8.579188753619353e-07,\n",
              " 3.2001735826994016e-07,\n",
              " 1.147075206266218e-07,\n",
              " 3.9503865521925166e-08,\n",
              " 1.3068947992215872e-08,\n",
              " 4.1524489926005945e-09,\n",
              " 1.2668488452002281e-09,\n",
              " 3.710057332371766e-10,\n",
              " 1.0426390629616922e-10,\n",
              " 2.8108011605188348e-11,\n",
              " 7.26601660542293e-12,\n",
              " 1.8002853642900753e-12,\n",
              " 4.273204820732424e-13,\n",
              " 9.711829138028295e-14,\n",
              " 2.1121675310848908e-14,\n",
              " 4.3929534785169706e-15,\n",
              " 8.731336106369137e-16,\n",
              " 1.657171954882398e-16,\n",
              " 3.000915008841319e-17,\n",
              " 5.180150908118919e-18,\n",
              " 8.515316561291009e-19,\n",
              " 1.3315456398930993e-19,\n",
              " 1.9782963792697214e-20,\n",
              " 2.7889516625043152e-21,\n",
              " 3.725501293140944e-22,\n",
              " 4.7080510847388074e-23,\n",
              " 5.619012144534894e-24,\n",
              " 6.3213886626009865e-25,\n",
              " 6.689300172064472e-26,\n",
              " 6.642684839855114e-27,\n",
              " 6.173923947542075e-28,\n",
              " 5.354934036133559e-29,\n",
              " 4.319946785452303e-30,\n",
              " 3.2291961020823153e-31,\n",
              " 2.2270317945393726e-32,\n",
              " 1.4099714283610392e-33,\n",
              " 8.147507451203865e-35,\n",
              " 4.26774199824933e-36,\n",
              " 2.0099255878724807e-37,\n",
              " 8.426706657229357e-39,\n",
              " 3.1066199657987784e-40,\n",
              " 9.914744571698849e-42,\n",
              " 2.683690260008763e-43,\n",
              " 5.990380044661983e-45,\n",
              " 1.0586827766707475e-46,\n",
              " 1.388942418372733e-48,\n",
              " 1.2025475483746612e-50,\n",
              " 5.153775207320016e-53,\n",
              " 3.2344765096247375e-16,\n",
              " 1.4185489835068493e-14,\n",
              " 3.082588133121748e-13,\n",
              " 4.425285341991664e-12,\n",
              " 4.721295390791065e-11,\n",
              " 3.992943409646157e-10,\n",
              " 2.7884180388494006e-09,\n",
              " 1.6538068708308797e-08,\n",
              " 8.504079257936531e-08,\n",
              " 3.8514796382399376e-07,\n",
              " 1.5555659316780454e-06,\n",
              " 5.659628935841608e-06,\n",
              " 1.8704686341932912e-05,\n",
              " 5.6549688047516555e-05,\n",
              " 0.0001573409681001423,\n",
              " 0.00040499954194373643,\n",
              " 0.0009688650448912078,\n",
              " 0.002162933168779963,\n",
              " 0.004522639223131567,\n",
              " 0.008887208316142793,\n",
              " 0.016462853241869434,\n",
              " 0.028831253120606814,\n",
              " 0.04786573864827411,\n",
              " 0.07553076730339288,\n",
              " 0.11357018170418141,\n",
              " 0.16313010446635196,\n",
              " 0.22439923974925396,\n",
              " 0.2963661605577433,\n",
              " 0.37677817921620693,\n",
              " 0.4623397360153615,\n",
              " 0.5491236007687906,\n",
              " 0.6331079860140434,\n",
              " 0.7107185563076472,\n",
              " 0.7792577612422589,\n",
              " 0.8371417116282125,\n",
              " 0.8839213939809425,\n",
              " 0.9201199577062691,\n",
              " 0.9469544142130749,\n",
              " 0.9660210017310686,\n",
              " 0.9790114239960753,\n",
              " 0.9875015928335618,\n",
              " 0.9928264374006265,\n",
              " 0.996032211170594,\n",
              " 0.9978853827186815,\n",
              " 0.9989142539353145,\n",
              " 0.9994629852508522,\n",
              " 0.9997441674467021,\n",
              " 0.9998826219018015,\n",
              " 0.9999481405278754,\n",
              " 0.9999779390866729,\n",
              " 0.9999909653138043,\n",
              " 0.9999964385184814,\n",
              " 0.9999986488511394,\n",
              " 0.9999995067700148,\n",
              " 0.9999998267873731,\n",
              " 0.9999999414948937,\n",
              " 0.9999999809987592,\n",
              " 0.9999999940677072,\n",
              " 0.9999999982201562,\n",
              " 0.999999999487005,\n",
              " 0.9999999998580108,\n",
              " 0.9999999999622746,\n",
              " 0.9999999999903827,\n",
              " 0.9999999999976487,\n",
              " 0.999999999999449,\n",
              " 0.9999999999998763,\n",
              " 0.9999999999999735,\n",
              " 0.9999999999999946,\n",
              " 0.9999999999999989,\n",
              " 0.9999999999999998,\n",
              " 0.9999999999999999,\n",
              " 0.9999999999999999,\n",
              " 0.9999999999999999,\n",
              " 0.9999999999999999,\n",
              " 0.9999999999999999,\n",
              " 0.9999999999999999,\n",
              " 0.9999999999999999,\n",
              " 0.9999999999999999,\n",
              " 0.9999999999999999,\n",
              " 0.9999999999999999,\n",
              " 0.9999999999999999,\n",
              " 0.9999999999999999,\n",
              " 0.9999999999999999,\n",
              " 0.9999999999999999,\n",
              " 0.9999999999999999,\n",
              " 0.9999999999999999,\n",
              " 0.9999999999999999,\n",
              " 0.9999999999999999,\n",
              " 0.9999999999999999,\n",
              " 0.9999999999999999,\n",
              " 0.9999999999999999,\n",
              " 0.9999999999999999,\n",
              " 0.9999999999999999,\n",
              " 0.9999999999999999,\n",
              " 0.9999999999999999,\n",
              " 0.9999999999999999,\n",
              " 0.9999999999999999,\n",
              " 0.9999999999999999,\n",
              " 0.9999999999999999,\n",
              " 0.9999999999999999,\n",
              " 1.0]"
            ]
          },
          "metadata": {
            "tags": []
          },
          "execution_count": 30
        }
      ]
    },
    {
      "cell_type": "code",
      "metadata": {
        "colab_type": "code",
        "outputId": "656d3b8f-b7bf-413a-f89e-447df43a84db",
        "id": "BMvfi2pQS6R1",
        "colab": {
          "base_uri": "https://localhost:8080/",
          "height": 282
        }
      },
      "source": [
        "N = 100\n",
        "\n",
        "x = list(range(0,N+1, 1))\n",
        "y = list([])\n",
        "\n",
        "for i in x:\n",
        "  y.append(binom.cdf(i, p = 0.3, n=N))\n",
        "\n",
        "fig, ax = plt.subplots()\n",
        "ax.bar(x,y)\n",
        "ax.set_ylabel('probablidad Continua')\n",
        "\n"
      ],
      "execution_count": 34,
      "outputs": [
        {
          "output_type": "execute_result",
          "data": {
            "text/plain": [
              "Text(0, 0.5, 'probablidad Continua')"
            ]
          },
          "metadata": {
            "tags": []
          },
          "execution_count": 34
        },
        {
          "output_type": "display_data",
          "data": {
            "image/png": "[encoded data removed]",
            "text/plain": [
              "<Figure size 432x288 with 1 Axes>"
            ]
          },
          "metadata": {
            "tags": []
          }
        }
      ]
    },
    {
      "cell_type": "code",
      "metadata": {
        "id": "GZGvPByQS6lC",
        "colab_type": "code",
        "colab": {}
      },
      "source": [
        "from scipy.stats import norm\n",
        "mean, var, skew, kurt = norm.stats(moments = 'mvsk')"
      ],
      "execution_count": 0,
      "outputs": []
    },
    {
      "cell_type": "code",
      "metadata": {
        "id": "GIRaymAuV2hv",
        "colab_type": "code",
        "colab": {
          "base_uri": "https://localhost:8080/",
          "height": 34
        },
        "outputId": "47f0a6b0-bfe6-4284-fc31-c2d28331e7e5"
      },
      "source": [
        "mean"
      ],
      "execution_count": 39,
      "outputs": [
        {
          "output_type": "execute_result",
          "data": {
            "text/plain": [
              "array(0.)"
            ]
          },
          "metadata": {
            "tags": []
          },
          "execution_count": 39
        }
      ]
    },
    {
      "cell_type": "code",
      "metadata": {
        "id": "RjnnIkvUWVSy",
        "colab_type": "code",
        "colab": {
          "base_uri": "https://localhost:8080/",
          "height": 34
        },
        "outputId": "51051013-fa96-4d68-b8fc-aa21442b3983"
      },
      "source": [
        "var"
      ],
      "execution_count": 40,
      "outputs": [
        {
          "output_type": "execute_result",
          "data": {
            "text/plain": [
              "array(1.)"
            ]
          },
          "metadata": {
            "tags": []
          },
          "execution_count": 40
        }
      ]
    },
    {
      "cell_type": "code",
      "metadata": {
        "id": "C9Vsg5w6WWWh",
        "colab_type": "code",
        "colab": {
          "base_uri": "https://localhost:8080/",
          "height": 34
        },
        "outputId": "f05481e5-4f42-4494-d958-10e28f9e9c76"
      },
      "source": [
        "skew"
      ],
      "execution_count": 41,
      "outputs": [
        {
          "output_type": "execute_result",
          "data": {
            "text/plain": [
              "array(0.)"
            ]
          },
          "metadata": {
            "tags": []
          },
          "execution_count": 41
        }
      ]
    },
    {
      "cell_type": "markdown",
      "metadata": {
        "id": "2YjxjX9Oi-f_",
        "colab_type": "text"
      },
      "source": [
        "## Distrubuciones discretas de mayor aplicicación"
      ]
    },
    {
      "cell_type": "markdown",
      "metadata": {
        "id": "E95pvivijHGR",
        "colab_type": "text"
      },
      "source": [
        "1. *Distribución de Bernoulli*: Experimento binario asociado a éxito o fracaso\n",
        "2. *Distribución Binominal*: Número de exitos x en N ensayos\n",
        "3. *Distribución Geométrica*: Número de ensayos x hasta 1 éxito\n",
        "4. *Dsitribución Binomial Negativa*: Número de ensayos x hasta el k-ésimo éxito\n",
        "5. *Distribución de Poisson*: Número de llegadas en N a una longitud de tiempo t"
      ]
    },
    {
      "cell_type": "code",
      "metadata": {
        "id": "T5aW-PIPWXfk",
        "colab_type": "code",
        "colab": {}
      },
      "source": [
        ""
      ],
      "execution_count": 0,
      "outputs": []
    }
  ]
}