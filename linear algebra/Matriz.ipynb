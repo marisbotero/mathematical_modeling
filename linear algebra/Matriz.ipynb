{
  "nbformat": 4,
  "nbformat_minor": 0,
  "metadata": {
    "colab": {
      "name": "Matriz.ipynb",
      "provenance": [],
      "include_colab_link": true
    },
    "kernelspec": {
      "name": "python3",
      "display_name": "Python 3"
    }
  },
  "cells": [
    {
      "cell_type": "markdown",
      "metadata": {
        "id": "view-in-github",
        "colab_type": "text"
      },
      "source": [
        "<a href=\"https://colab.research.google.com/github/marisbotero/mathematical_modeling/blob/master/Matriz.ipynb\" target=\"_parent\"><img src=\"https://colab.research.google.com/assets/colab-badge.svg\" alt=\"Open In Colab\"/></a>"
      ]
    },
    {
      "cell_type": "code",
      "metadata": {
        "id": "hDjH67E3B2i3",
        "colab_type": "code",
        "colab": {}
      },
      "source": [
        "\n",
        "from random import randint\n",
        "from copy import deepcopy\n",
        "\n",
        "class Matrix(object):\n",
        "\n",
        "    def __init__(self, rows, columns):\n",
        "        self.rows = rows\n",
        "        self.columns = columns\n",
        "        self.matrix = []\n",
        "\n",
        "        for i in range(rows):\n",
        "            self.matrix.append([]) # Initialize empty rows\n",
        "\n",
        "        for row in self.matrix:\n",
        "            for i in range(columns):\n",
        "                row.append(0) # Fill the rows with 0s\n",
        "\n",
        "    def __repr__(self):\n",
        "        '''Print the matrix row after row.'''\n",
        "        rep = \"\"\n",
        "        for row in self.matrix:\n",
        "            rep += str(row)\n",
        "            rep += \"\\n\"\n",
        "        return rep.rstrip()\n",
        "\n",
        "    def __getitem__(self, key):\n",
        "        return self.matrix[key]\n",
        "\n",
        "    def __setitem__(self, key, value):\n",
        "        if isinstance(value, list):\n",
        "            self.matrix[key] = value\n",
        "        else:\n",
        "            raise TypeError(\"A matrix object can only contain lists of numbers\")\n",
        "        return\n",
        "\n",
        "    def __delitem__(self, key):\n",
        "        del(self.matrix[key])\n",
        "        self.rows = self.rows - 1\n",
        "        return\n",
        "\n",
        "    def __contains__(self, value):\n",
        "        for row in self.matrix:\n",
        "            for element in row:\n",
        "                if element == value:\n",
        "                    return True\n",
        "                else:\n",
        "                    pass\n",
        "        return False\n",
        "\n",
        "    def __eq__(self, otherMatrix):\n",
        "        if isinstance(otherMatrix, Matrix):\n",
        "            if (self.rows != otherMatrix.rows) or (self.columns != otherMatrix.columns):\n",
        "                return False # They don't have the same dimensions, they can't be equal\n",
        "\n",
        "            for row in range(self.rows): # Check the elements one by one\n",
        "                for column in range(self.columns):\n",
        "                    if self.matrix[row][column] != otherMatrix[row][column]:\n",
        "                        return False\n",
        "\n",
        "            return True\n",
        "        else:\n",
        "            return False\n",
        "\n",
        "    def __ne__(self, otherMatrix):\n",
        "        return not self.__eq__(otherMatrix) # Check for equality and reverse the result\n",
        "\n",
        "    def __add__(self, otherMatrix):\n",
        "        '''Add 2 matrices of the same type.'''\n",
        "        return self.__add_or_sub(otherMatrix, \"add\")\n",
        "\n",
        "    def __sub__(self, otherMatrix):\n",
        "        '''Subtracts otherMatrix from self.'''\n",
        "        return self.__add_or_sub(otherMatrix, \"sub\")\n",
        "\n",
        "   \n",
        "\n",
        "    def is_square(self):\n",
        "        return self.rows == self.columns\n",
        "\n",
        "    def transpose(self):\n",
        "        newMatrix = Matrix(self.columns, self.rows)\n",
        "\n",
        "        for row in range(self.rows):\n",
        "            for column in range(self.columns):\n",
        "                newMatrix[column][row] = self.matrix[row][column] # a(i,j) = a(j,i)\n",
        "\n",
        "        return newMatrix\n",
        "\n",
        "    def complement_matrix(self, rowToDelete, columnToDelete):\n",
        "        newMatrix = deepcopy(self)\n",
        "        del(newMatrix[rowToDelete])\n",
        "\n",
        "        for row in range(newMatrix.rows):\n",
        "            del(newMatrix[row][columnToDelete])\n",
        "\n",
        "        newMatrix.columns -= 1\n",
        "\n",
        "        return newMatrix\n",
        "\n",
        "    def algebric_complement(self, row, column):\n",
        "        complementMatrix = self.complement_matrix(row, column)\n",
        "        algebricComplement = (-1)**(row+column) * complementMatrix.determinant()\n",
        "\n",
        "        return algebricComplement\n",
        "\n",
        "    def determinant(self):\n",
        "        '''\n",
        "        Return the determinant.\n",
        "        This function uses Laplace's theorem to calculate the determinant.\n",
        "        It is a very rough implementation, which means it becomes slower and\n",
        "        slower as the size of the matrix grows.\n",
        "        '''\n",
        "        if self.is_square():\n",
        "            if self.rows == 1:\n",
        "                # If it's a square matrix with only 1 row, it has only 1 element\n",
        "                det = self[0][0] # The determinant is equal to the element\n",
        "            elif self.rows == 2:\n",
        "                det = (self[0][0] * self[1][1]) - (self[0][1] * self[1][0])\n",
        "            else:\n",
        "                # We calculate the determinant using Laplace's theorem\n",
        "                det = 0\n",
        "                for element in range(self.columns):\n",
        "                    det += self[0][element] * self.algebric_complement(0, element)\n",
        "            return det\n",
        "        else:\n",
        "            raise TypeError(\"Can only calculate the determinant of a square matrix\")\n",
        "\n",
        "    \n",
        "\n",
        "    def inverse_matrix(self):\n",
        "        '''Return the inverse matrix.'''\n",
        "        det = self.determinant()\n",
        "        if det == 0:\n",
        "            raise Exception(\"Matrix not invertible\")\n",
        "        else:\n",
        "            algebricComplementsMatrix = self.algebric_complements_matrix()\n",
        "            inverseMatrix = 1/det * algebricComplementsMatrix.transpose()\n",
        "\n",
        "            return inverseMatrix\n",
        "\n",
        "   \n",
        "\n",
        "    def random(self, lower=-5, upper=5):\n",
        "        '''Fill the matrix with random numbers (integers).'''\n",
        "        for row in self.matrix:\n",
        "            for i in range(self.columns):\n",
        "                row[i] = randint(lower, upper)\n",
        "                "
      ],
      "execution_count": 0,
      "outputs": []
    },
    {
      "cell_type": "code",
      "metadata": {
        "id": "pkL9-q9SB3be",
        "colab_type": "code",
        "colab": {}
      },
      "source": [
        " m = Matrix(2, 2)"
      ],
      "execution_count": 0,
      "outputs": []
    },
    {
      "cell_type": "code",
      "metadata": {
        "id": "2SoM9m8dB7ck",
        "colab_type": "code",
        "colab": {}
      },
      "source": [
        "m.random()"
      ],
      "execution_count": 0,
      "outputs": []
    },
    {
      "cell_type": "code",
      "metadata": {
        "id": "TX3OxHKOB9xU",
        "colab_type": "code",
        "outputId": "fcb70e19-cf28-40f1-ae57-a18af5f50188",
        "colab": {
          "base_uri": "https://localhost:8080/",
          "height": 52
        }
      },
      "source": [
        "m"
      ],
      "execution_count": 4,
      "outputs": [
        {
          "output_type": "execute_result",
          "data": {
            "text/plain": [
              "[0, -2]\n",
              "[3, 1]"
            ]
          },
          "metadata": {
            "tags": []
          },
          "execution_count": 4
        }
      ]
    },
    {
      "cell_type": "code",
      "metadata": {
        "id": "kNE6JpcFB-QV",
        "colab_type": "code",
        "outputId": "dc2cdb5b-3c4a-4ffa-e940-8c349e152ac2",
        "colab": {
          "base_uri": "https://localhost:8080/",
          "height": 35
        }
      },
      "source": [
        "m.determinant()"
      ],
      "execution_count": 5,
      "outputs": [
        {
          "output_type": "execute_result",
          "data": {
            "text/plain": [
              "6"
            ]
          },
          "metadata": {
            "tags": []
          },
          "execution_count": 5
        }
      ]
    },
    {
      "cell_type": "code",
      "metadata": {
        "id": "j7M2Q5-BCBZe",
        "colab_type": "code",
        "colab": {
          "base_uri": "https://localhost:8080/",
          "height": 52
        },
        "outputId": "ad6537bb-7163-4c58-c737-75e2ac13ebc4"
      },
      "source": [
        "m.transpose()"
      ],
      "execution_count": 6,
      "outputs": [
        {
          "output_type": "execute_result",
          "data": {
            "text/plain": [
              "[0, 3]\n",
              "[-2, 1]"
            ]
          },
          "metadata": {
            "tags": []
          },
          "execution_count": 6
        }
      ]
    },
    {
      "cell_type": "code",
      "metadata": {
        "id": "pnn1LPrad2xb",
        "colab_type": "code",
        "colab": {}
      },
      "source": [
        ""
      ],
      "execution_count": 0,
      "outputs": []
    }
  ]
}